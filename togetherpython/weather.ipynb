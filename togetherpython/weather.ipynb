{
 "cells": [
  {
   "cell_type": "code",
   "execution_count": 1,
   "id": "f324f97f",
   "metadata": {},
   "outputs": [
    {
     "name": "stdout",
     "output_type": "stream",
     "text": [
      "Seoul 의 날씨입니다.\n",
      "날씨는  맑음 입니다.\n",
      "현재 온도는  22.77 입니다.\n",
      "하지만 체감 온도는  21.55 입니다.\n",
      "최저 기온은  20.69 입니다.\n",
      "최고 기온은  22.78 입니다.\n",
      "습도는  17 입니다.\n",
      "기압은  1016 입니다.\n",
      "풍향은  310 입니다.\n",
      "풍속은  7.2 입니다.\n"
     ]
    }
   ],
   "source": [
    "import requests\n",
    "import json\n",
    "\n",
    "city = \"Seoul\"\n",
    "apikey = \"1770dd35721ffcf2e0a16c179962e995\"\n",
    "lang = \"kr\"\n",
    "\n",
    "api = f\"http://api.openweathermap.org/data/2.5/weather?q={city}&appid={apikey}&lang={lang}&units=metric\"\n",
    "\n",
    "result = requests.get(api)\n",
    "data = json.loads(result.text)\n",
    "\n",
    "print(data[\"name\"],\"의 날씨입니다.\")\n",
    "print(\"날씨는 \",data[\"weather\"][0][\"description\"],\"입니다.\")\n",
    "print(\"현재 온도는 \",data[\"main\"][\"temp\"],\"입니다.\")\n",
    "print(\"하지만 체감 온도는 \",data[\"main\"][\"feels_like\"],\"입니다.\")\n",
    "print(\"최저 기온은 \",data[\"main\"][\"temp_min\"],\"입니다.\")\n",
    "print(\"최고 기온은 \",data[\"main\"][\"temp_max\"],\"입니다.\")\n",
    "print(\"습도는 \",data[\"main\"][\"humidity\"],\"입니다.\")\n",
    "print(\"기압은 \",data[\"main\"][\"pressure\"],\"입니다.\")\n",
    "print(\"풍향은 \",data[\"wind\"][\"deg\"],\"입니다.\")\n",
    "print(\"풍속은 \",data[\"wind\"][\"speed\"],\"입니다.\")"
   ]
  },
  {
   "cell_type": "code",
   "execution_count": null,
   "id": "298e2adc",
   "metadata": {},
   "outputs": [],
   "source": []
  }
 ],
 "metadata": {
  "kernelspec": {
   "display_name": "Python 3 (ipykernel)",
   "language": "python",
   "name": "python3"
  },
  "language_info": {
   "codemirror_mode": {
    "name": "ipython",
    "version": 3
   },
   "file_extension": ".py",
   "mimetype": "text/x-python",
   "name": "python",
   "nbconvert_exporter": "python",
   "pygments_lexer": "ipython3",
   "version": "3.10.4"
  }
 },
 "nbformat": 4,
 "nbformat_minor": 5
}
